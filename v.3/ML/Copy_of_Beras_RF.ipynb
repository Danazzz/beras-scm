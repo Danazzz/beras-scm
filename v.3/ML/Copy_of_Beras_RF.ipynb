{
  "nbformat": 4,
  "nbformat_minor": 0,
  "metadata": {
    "colab": {
      "provenance": []
    },
    "kernelspec": {
      "name": "python3",
      "display_name": "Python 3"
    },
    "language_info": {
      "name": "python"
    }
  },
  "cells": [
    {
      "cell_type": "markdown",
      "source": [
        "### Import Libraries"
      ],
      "metadata": {
        "id": "bmPXXxNMqoxu"
      }
    },
    {
      "cell_type": "code",
      "execution_count": null,
      "metadata": {
        "id": "3wY_BFgIp-oA"
      },
      "outputs": [],
      "source": [
        "import pandas as pd\n",
        "import matplotlib.pyplot as plt\n",
        "import numpy as np"
      ]
    },
    {
      "cell_type": "markdown",
      "source": [
        "### Load Dataset"
      ],
      "metadata": {
        "id": "oYVVo_YVqqvw"
      }
    },
    {
      "cell_type": "code",
      "source": [
        "df = pd.read_csv(\"https://raw.githubusercontent.com/Danazzz/beras-scm/main/csv/Beras.csv\")\n",
        "df"
      ],
      "metadata": {
        "colab": {
          "base_uri": "https://localhost:8080/",
          "height": 411
        },
        "id": "t4MCCpNBqSA_",
        "outputId": "e42d2618-5f1d-40e9-93b5-2a3c12ee7d23"
      },
      "execution_count": null,
      "outputs": [
        {
          "output_type": "execute_result",
          "data": {
            "text/plain": [
              "        Tanggal  Luas Panen Padi  GKP Tingkat Petani  \\\n",
              "0    2021-03-15               10                4000   \n",
              "1    2021-03-16               10                3850   \n",
              "2    2021-03-17               10                4160   \n",
              "3    2021-03-18               10                4120   \n",
              "4    2021-03-19               10                4190   \n",
              "..          ...              ...                 ...   \n",
              "673  2023-12-21               30                6770   \n",
              "674  2023-12-22               30                6600   \n",
              "675  2023-12-27               30                6620   \n",
              "676  2023-12-28               30                6650   \n",
              "677  2023-12-29               30                6730   \n",
              "\n",
              "     GKP Tingkat Penggilingan  GKG Tingkat Penggilingan  \\\n",
              "0                        4150                      5050   \n",
              "1                        4100                      4740   \n",
              "2                        4230                      4950   \n",
              "3                        4190                      4730   \n",
              "4                        4290                      4990   \n",
              "..                        ...                       ...   \n",
              "673                      6850                      7980   \n",
              "674                      6760                      8050   \n",
              "675                      6760                      8030   \n",
              "676                      6760                      8020   \n",
              "677                      6820                      8100   \n",
              "\n",
              "     Harga Beras Penggilingan  Produksi Beras  Harga Beras   UMP  BBM Solar  \\\n",
              "0                        9465           14419        11200  4960       9600   \n",
              "1                        9360           14419        11200  4960       9600   \n",
              "2                        9400           14419        11200  4960       9600   \n",
              "3                        9340           14419        11200  4960       9600   \n",
              "4                        9410           14419        11200  4960       9600   \n",
              "..                        ...             ...          ...   ...        ...   \n",
              "673                     13100           14391        14000  5444       6800   \n",
              "674                     13095           14391        14000  5444       6800   \n",
              "675                     13120           14391        14000  5444       6800   \n",
              "676                     13120           14391        14000  5444       6800   \n",
              "677                     13150           14391        14000  5444       6800   \n",
              "\n",
              "     Tingkat Konsumsi  \n",
              "0               17161  \n",
              "1               17161  \n",
              "2               17161  \n",
              "3               17161  \n",
              "4               17161  \n",
              "..                ...  \n",
              "673             17598  \n",
              "674             17598  \n",
              "675             17598  \n",
              "676             17598  \n",
              "677             17598  \n",
              "\n",
              "[678 rows x 11 columns]"
            ],
            "text/html": [
              "\n",
              "  <div id=\"df-9a6e349b-6c58-457f-a981-91a5daeb0fbb\" class=\"colab-df-container\">\n",
              "    <div>\n",
              "<style scoped>\n",
              "    .dataframe tbody tr th:only-of-type {\n",
              "        vertical-align: middle;\n",
              "    }\n",
              "\n",
              "    .dataframe tbody tr th {\n",
              "        vertical-align: top;\n",
              "    }\n",
              "\n",
              "    .dataframe thead th {\n",
              "        text-align: right;\n",
              "    }\n",
              "</style>\n",
              "<table border=\"1\" class=\"dataframe\">\n",
              "  <thead>\n",
              "    <tr style=\"text-align: right;\">\n",
              "      <th></th>\n",
              "      <th>Tanggal</th>\n",
              "      <th>Luas Panen Padi</th>\n",
              "      <th>GKP Tingkat Petani</th>\n",
              "      <th>GKP Tingkat Penggilingan</th>\n",
              "      <th>GKG Tingkat Penggilingan</th>\n",
              "      <th>Harga Beras Penggilingan</th>\n",
              "      <th>Produksi Beras</th>\n",
              "      <th>Harga Beras</th>\n",
              "      <th>UMP</th>\n",
              "      <th>BBM Solar</th>\n",
              "      <th>Tingkat Konsumsi</th>\n",
              "    </tr>\n",
              "  </thead>\n",
              "  <tbody>\n",
              "    <tr>\n",
              "      <th>0</th>\n",
              "      <td>2021-03-15</td>\n",
              "      <td>10</td>\n",
              "      <td>4000</td>\n",
              "      <td>4150</td>\n",
              "      <td>5050</td>\n",
              "      <td>9465</td>\n",
              "      <td>14419</td>\n",
              "      <td>11200</td>\n",
              "      <td>4960</td>\n",
              "      <td>9600</td>\n",
              "      <td>17161</td>\n",
              "    </tr>\n",
              "    <tr>\n",
              "      <th>1</th>\n",
              "      <td>2021-03-16</td>\n",
              "      <td>10</td>\n",
              "      <td>3850</td>\n",
              "      <td>4100</td>\n",
              "      <td>4740</td>\n",
              "      <td>9360</td>\n",
              "      <td>14419</td>\n",
              "      <td>11200</td>\n",
              "      <td>4960</td>\n",
              "      <td>9600</td>\n",
              "      <td>17161</td>\n",
              "    </tr>\n",
              "    <tr>\n",
              "      <th>2</th>\n",
              "      <td>2021-03-17</td>\n",
              "      <td>10</td>\n",
              "      <td>4160</td>\n",
              "      <td>4230</td>\n",
              "      <td>4950</td>\n",
              "      <td>9400</td>\n",
              "      <td>14419</td>\n",
              "      <td>11200</td>\n",
              "      <td>4960</td>\n",
              "      <td>9600</td>\n",
              "      <td>17161</td>\n",
              "    </tr>\n",
              "    <tr>\n",
              "      <th>3</th>\n",
              "      <td>2021-03-18</td>\n",
              "      <td>10</td>\n",
              "      <td>4120</td>\n",
              "      <td>4190</td>\n",
              "      <td>4730</td>\n",
              "      <td>9340</td>\n",
              "      <td>14419</td>\n",
              "      <td>11200</td>\n",
              "      <td>4960</td>\n",
              "      <td>9600</td>\n",
              "      <td>17161</td>\n",
              "    </tr>\n",
              "    <tr>\n",
              "      <th>4</th>\n",
              "      <td>2021-03-19</td>\n",
              "      <td>10</td>\n",
              "      <td>4190</td>\n",
              "      <td>4290</td>\n",
              "      <td>4990</td>\n",
              "      <td>9410</td>\n",
              "      <td>14419</td>\n",
              "      <td>11200</td>\n",
              "      <td>4960</td>\n",
              "      <td>9600</td>\n",
              "      <td>17161</td>\n",
              "    </tr>\n",
              "    <tr>\n",
              "      <th>...</th>\n",
              "      <td>...</td>\n",
              "      <td>...</td>\n",
              "      <td>...</td>\n",
              "      <td>...</td>\n",
              "      <td>...</td>\n",
              "      <td>...</td>\n",
              "      <td>...</td>\n",
              "      <td>...</td>\n",
              "      <td>...</td>\n",
              "      <td>...</td>\n",
              "      <td>...</td>\n",
              "    </tr>\n",
              "    <tr>\n",
              "      <th>673</th>\n",
              "      <td>2023-12-21</td>\n",
              "      <td>30</td>\n",
              "      <td>6770</td>\n",
              "      <td>6850</td>\n",
              "      <td>7980</td>\n",
              "      <td>13100</td>\n",
              "      <td>14391</td>\n",
              "      <td>14000</td>\n",
              "      <td>5444</td>\n",
              "      <td>6800</td>\n",
              "      <td>17598</td>\n",
              "    </tr>\n",
              "    <tr>\n",
              "      <th>674</th>\n",
              "      <td>2023-12-22</td>\n",
              "      <td>30</td>\n",
              "      <td>6600</td>\n",
              "      <td>6760</td>\n",
              "      <td>8050</td>\n",
              "      <td>13095</td>\n",
              "      <td>14391</td>\n",
              "      <td>14000</td>\n",
              "      <td>5444</td>\n",
              "      <td>6800</td>\n",
              "      <td>17598</td>\n",
              "    </tr>\n",
              "    <tr>\n",
              "      <th>675</th>\n",
              "      <td>2023-12-27</td>\n",
              "      <td>30</td>\n",
              "      <td>6620</td>\n",
              "      <td>6760</td>\n",
              "      <td>8030</td>\n",
              "      <td>13120</td>\n",
              "      <td>14391</td>\n",
              "      <td>14000</td>\n",
              "      <td>5444</td>\n",
              "      <td>6800</td>\n",
              "      <td>17598</td>\n",
              "    </tr>\n",
              "    <tr>\n",
              "      <th>676</th>\n",
              "      <td>2023-12-28</td>\n",
              "      <td>30</td>\n",
              "      <td>6650</td>\n",
              "      <td>6760</td>\n",
              "      <td>8020</td>\n",
              "      <td>13120</td>\n",
              "      <td>14391</td>\n",
              "      <td>14000</td>\n",
              "      <td>5444</td>\n",
              "      <td>6800</td>\n",
              "      <td>17598</td>\n",
              "    </tr>\n",
              "    <tr>\n",
              "      <th>677</th>\n",
              "      <td>2023-12-29</td>\n",
              "      <td>30</td>\n",
              "      <td>6730</td>\n",
              "      <td>6820</td>\n",
              "      <td>8100</td>\n",
              "      <td>13150</td>\n",
              "      <td>14391</td>\n",
              "      <td>14000</td>\n",
              "      <td>5444</td>\n",
              "      <td>6800</td>\n",
              "      <td>17598</td>\n",
              "    </tr>\n",
              "  </tbody>\n",
              "</table>\n",
              "<p>678 rows × 11 columns</p>\n",
              "</div>\n",
              "    <div class=\"colab-df-buttons\">\n",
              "\n",
              "  <div class=\"colab-df-container\">\n",
              "    <button class=\"colab-df-convert\" onclick=\"convertToInteractive('df-9a6e349b-6c58-457f-a981-91a5daeb0fbb')\"\n",
              "            title=\"Convert this dataframe to an interactive table.\"\n",
              "            style=\"display:none;\">\n",
              "\n",
              "  <svg xmlns=\"http://www.w3.org/2000/svg\" height=\"24px\" viewBox=\"0 -960 960 960\">\n",
              "    <path d=\"M120-120v-720h720v720H120Zm60-500h600v-160H180v160Zm220 220h160v-160H400v160Zm0 220h160v-160H400v160ZM180-400h160v-160H180v160Zm440 0h160v-160H620v160ZM180-180h160v-160H180v160Zm440 0h160v-160H620v160Z\"/>\n",
              "  </svg>\n",
              "    </button>\n",
              "\n",
              "  <style>\n",
              "    .colab-df-container {\n",
              "      display:flex;\n",
              "      gap: 12px;\n",
              "    }\n",
              "\n",
              "    .colab-df-convert {\n",
              "      background-color: #E8F0FE;\n",
              "      border: none;\n",
              "      border-radius: 50%;\n",
              "      cursor: pointer;\n",
              "      display: none;\n",
              "      fill: #1967D2;\n",
              "      height: 32px;\n",
              "      padding: 0 0 0 0;\n",
              "      width: 32px;\n",
              "    }\n",
              "\n",
              "    .colab-df-convert:hover {\n",
              "      background-color: #E2EBFA;\n",
              "      box-shadow: 0px 1px 2px rgba(60, 64, 67, 0.3), 0px 1px 3px 1px rgba(60, 64, 67, 0.15);\n",
              "      fill: #174EA6;\n",
              "    }\n",
              "\n",
              "    .colab-df-buttons div {\n",
              "      margin-bottom: 4px;\n",
              "    }\n",
              "\n",
              "    [theme=dark] .colab-df-convert {\n",
              "      background-color: #3B4455;\n",
              "      fill: #D2E3FC;\n",
              "    }\n",
              "\n",
              "    [theme=dark] .colab-df-convert:hover {\n",
              "      background-color: #434B5C;\n",
              "      box-shadow: 0px 1px 3px 1px rgba(0, 0, 0, 0.15);\n",
              "      filter: drop-shadow(0px 1px 2px rgba(0, 0, 0, 0.3));\n",
              "      fill: #FFFFFF;\n",
              "    }\n",
              "  </style>\n",
              "\n",
              "    <script>\n",
              "      const buttonEl =\n",
              "        document.querySelector('#df-9a6e349b-6c58-457f-a981-91a5daeb0fbb button.colab-df-convert');\n",
              "      buttonEl.style.display =\n",
              "        google.colab.kernel.accessAllowed ? 'block' : 'none';\n",
              "\n",
              "      async function convertToInteractive(key) {\n",
              "        const element = document.querySelector('#df-9a6e349b-6c58-457f-a981-91a5daeb0fbb');\n",
              "        const dataTable =\n",
              "          await google.colab.kernel.invokeFunction('convertToInteractive',\n",
              "                                                    [key], {});\n",
              "        if (!dataTable) return;\n",
              "\n",
              "        const docLinkHtml = 'Like what you see? Visit the ' +\n",
              "          '<a target=\"_blank\" href=https://colab.research.google.com/notebooks/data_table.ipynb>data table notebook</a>'\n",
              "          + ' to learn more about interactive tables.';\n",
              "        element.innerHTML = '';\n",
              "        dataTable['output_type'] = 'display_data';\n",
              "        await google.colab.output.renderOutput(dataTable, element);\n",
              "        const docLink = document.createElement('div');\n",
              "        docLink.innerHTML = docLinkHtml;\n",
              "        element.appendChild(docLink);\n",
              "      }\n",
              "    </script>\n",
              "  </div>\n",
              "\n",
              "\n",
              "<div id=\"df-250251bd-2452-4a9a-8dc3-8e618a29ffbd\">\n",
              "  <button class=\"colab-df-quickchart\" onclick=\"quickchart('df-250251bd-2452-4a9a-8dc3-8e618a29ffbd')\"\n",
              "            title=\"Suggest charts\"\n",
              "            style=\"display:none;\">\n",
              "\n",
              "<svg xmlns=\"http://www.w3.org/2000/svg\" height=\"24px\"viewBox=\"0 0 24 24\"\n",
              "     width=\"24px\">\n",
              "    <g>\n",
              "        <path d=\"M19 3H5c-1.1 0-2 .9-2 2v14c0 1.1.9 2 2 2h14c1.1 0 2-.9 2-2V5c0-1.1-.9-2-2-2zM9 17H7v-7h2v7zm4 0h-2V7h2v10zm4 0h-2v-4h2v4z\"/>\n",
              "    </g>\n",
              "</svg>\n",
              "  </button>\n",
              "\n",
              "<style>\n",
              "  .colab-df-quickchart {\n",
              "      --bg-color: #E8F0FE;\n",
              "      --fill-color: #1967D2;\n",
              "      --hover-bg-color: #E2EBFA;\n",
              "      --hover-fill-color: #174EA6;\n",
              "      --disabled-fill-color: #AAA;\n",
              "      --disabled-bg-color: #DDD;\n",
              "  }\n",
              "\n",
              "  [theme=dark] .colab-df-quickchart {\n",
              "      --bg-color: #3B4455;\n",
              "      --fill-color: #D2E3FC;\n",
              "      --hover-bg-color: #434B5C;\n",
              "      --hover-fill-color: #FFFFFF;\n",
              "      --disabled-bg-color: #3B4455;\n",
              "      --disabled-fill-color: #666;\n",
              "  }\n",
              "\n",
              "  .colab-df-quickchart {\n",
              "    background-color: var(--bg-color);\n",
              "    border: none;\n",
              "    border-radius: 50%;\n",
              "    cursor: pointer;\n",
              "    display: none;\n",
              "    fill: var(--fill-color);\n",
              "    height: 32px;\n",
              "    padding: 0;\n",
              "    width: 32px;\n",
              "  }\n",
              "\n",
              "  .colab-df-quickchart:hover {\n",
              "    background-color: var(--hover-bg-color);\n",
              "    box-shadow: 0 1px 2px rgba(60, 64, 67, 0.3), 0 1px 3px 1px rgba(60, 64, 67, 0.15);\n",
              "    fill: var(--button-hover-fill-color);\n",
              "  }\n",
              "\n",
              "  .colab-df-quickchart-complete:disabled,\n",
              "  .colab-df-quickchart-complete:disabled:hover {\n",
              "    background-color: var(--disabled-bg-color);\n",
              "    fill: var(--disabled-fill-color);\n",
              "    box-shadow: none;\n",
              "  }\n",
              "\n",
              "  .colab-df-spinner {\n",
              "    border: 2px solid var(--fill-color);\n",
              "    border-color: transparent;\n",
              "    border-bottom-color: var(--fill-color);\n",
              "    animation:\n",
              "      spin 1s steps(1) infinite;\n",
              "  }\n",
              "\n",
              "  @keyframes spin {\n",
              "    0% {\n",
              "      border-color: transparent;\n",
              "      border-bottom-color: var(--fill-color);\n",
              "      border-left-color: var(--fill-color);\n",
              "    }\n",
              "    20% {\n",
              "      border-color: transparent;\n",
              "      border-left-color: var(--fill-color);\n",
              "      border-top-color: var(--fill-color);\n",
              "    }\n",
              "    30% {\n",
              "      border-color: transparent;\n",
              "      border-left-color: var(--fill-color);\n",
              "      border-top-color: var(--fill-color);\n",
              "      border-right-color: var(--fill-color);\n",
              "    }\n",
              "    40% {\n",
              "      border-color: transparent;\n",
              "      border-right-color: var(--fill-color);\n",
              "      border-top-color: var(--fill-color);\n",
              "    }\n",
              "    60% {\n",
              "      border-color: transparent;\n",
              "      border-right-color: var(--fill-color);\n",
              "    }\n",
              "    80% {\n",
              "      border-color: transparent;\n",
              "      border-right-color: var(--fill-color);\n",
              "      border-bottom-color: var(--fill-color);\n",
              "    }\n",
              "    90% {\n",
              "      border-color: transparent;\n",
              "      border-bottom-color: var(--fill-color);\n",
              "    }\n",
              "  }\n",
              "</style>\n",
              "\n",
              "  <script>\n",
              "    async function quickchart(key) {\n",
              "      const quickchartButtonEl =\n",
              "        document.querySelector('#' + key + ' button');\n",
              "      quickchartButtonEl.disabled = true;  // To prevent multiple clicks.\n",
              "      quickchartButtonEl.classList.add('colab-df-spinner');\n",
              "      try {\n",
              "        const charts = await google.colab.kernel.invokeFunction(\n",
              "            'suggestCharts', [key], {});\n",
              "      } catch (error) {\n",
              "        console.error('Error during call to suggestCharts:', error);\n",
              "      }\n",
              "      quickchartButtonEl.classList.remove('colab-df-spinner');\n",
              "      quickchartButtonEl.classList.add('colab-df-quickchart-complete');\n",
              "    }\n",
              "    (() => {\n",
              "      let quickchartButtonEl =\n",
              "        document.querySelector('#df-250251bd-2452-4a9a-8dc3-8e618a29ffbd button');\n",
              "      quickchartButtonEl.style.display =\n",
              "        google.colab.kernel.accessAllowed ? 'block' : 'none';\n",
              "    })();\n",
              "  </script>\n",
              "</div>\n",
              "    </div>\n",
              "  </div>\n"
            ],
            "application/vnd.google.colaboratory.intrinsic+json": {
              "type": "dataframe",
              "variable_name": "df",
              "summary": "{\n  \"name\": \"df\",\n  \"rows\": 678,\n  \"fields\": [\n    {\n      \"column\": \"Tanggal\",\n      \"properties\": {\n        \"dtype\": \"object\",\n        \"num_unique_values\": 678,\n        \"samples\": [\n          \"2023-11-14\",\n          \"2022-09-05\",\n          \"2021-06-18\"\n        ],\n        \"semantic_type\": \"\",\n        \"description\": \"\"\n      }\n    },\n    {\n      \"column\": \"Luas Panen Padi\",\n      \"properties\": {\n        \"dtype\": \"number\",\n        \"std\": 22,\n        \"min\": 0,\n        \"max\": 100,\n        \"num_unique_values\": 11,\n        \"samples\": [\n          60,\n          10,\n          100\n        ],\n        \"semantic_type\": \"\",\n        \"description\": \"\"\n      }\n    },\n    {\n      \"column\": \"GKP Tingkat Petani\",\n      \"properties\": {\n        \"dtype\": \"number\",\n        \"std\": 775,\n        \"min\": 3850,\n        \"max\": 6890,\n        \"num_unique_values\": 180,\n        \"samples\": [\n          4240,\n          4330,\n          6460\n        ],\n        \"semantic_type\": \"\",\n        \"description\": \"\"\n      }\n    },\n    {\n      \"column\": \"GKP Tingkat Penggilingan\",\n      \"properties\": {\n        \"dtype\": \"number\",\n        \"std\": 788,\n        \"min\": 4070,\n        \"max\": 7160,\n        \"num_unique_values\": 192,\n        \"samples\": [\n          4690,\n          5520,\n          4930\n        ],\n        \"semantic_type\": \"\",\n        \"description\": \"\"\n      }\n    },\n    {\n      \"column\": \"GKG Tingkat Penggilingan\",\n      \"properties\": {\n        \"dtype\": \"number\",\n        \"std\": 887,\n        \"min\": 4730,\n        \"max\": 8100,\n        \"num_unique_values\": 210,\n        \"samples\": [\n          5080,\n          7260,\n          5560\n        ],\n        \"semantic_type\": \"\",\n        \"description\": \"\"\n      }\n    },\n    {\n      \"column\": \"Harga Beras Penggilingan\",\n      \"properties\": {\n        \"dtype\": \"number\",\n        \"std\": 1227,\n        \"min\": 9120,\n        \"max\": 13165,\n        \"num_unique_values\": 283,\n        \"samples\": [\n          9440,\n          12860,\n          10470\n        ],\n        \"semantic_type\": \"\",\n        \"description\": \"\"\n      }\n    },\n    {\n      \"column\": \"Produksi Beras\",\n      \"properties\": {\n        \"dtype\": \"number\",\n        \"std\": 245,\n        \"min\": 14391,\n        \"max\": 14925,\n        \"num_unique_values\": 3,\n        \"samples\": [\n          14419,\n          14925,\n          14391\n        ],\n        \"semantic_type\": \"\",\n        \"description\": \"\"\n      }\n    },\n    {\n      \"column\": \"Harga Beras\",\n      \"properties\": {\n        \"dtype\": \"number\",\n        \"std\": 897,\n        \"min\": 11150,\n        \"max\": 14000,\n        \"num_unique_values\": 42,\n        \"samples\": [\n          12600,\n          11650,\n          11950\n        ],\n        \"semantic_type\": \"\",\n        \"description\": \"\"\n      }\n    },\n    {\n      \"column\": \"UMP\",\n      \"properties\": {\n        \"dtype\": \"number\",\n        \"std\": 215,\n        \"min\": 4960,\n        \"max\": 5444,\n        \"num_unique_values\": 3,\n        \"samples\": [\n          4960,\n          5049,\n          5444\n        ],\n        \"semantic_type\": \"\",\n        \"description\": \"\"\n      }\n    },\n    {\n      \"column\": \"BBM Solar\",\n      \"properties\": {\n        \"dtype\": \"number\",\n        \"std\": 2003,\n        \"min\": 6800,\n        \"max\": 11150,\n        \"num_unique_values\": 3,\n        \"samples\": [\n          9600,\n          6800,\n          11150\n        ],\n        \"semantic_type\": \"\",\n        \"description\": \"\"\n      }\n    },\n    {\n      \"column\": \"Tingkat Konsumsi\",\n      \"properties\": {\n        \"dtype\": \"number\",\n        \"std\": 178,\n        \"min\": 17161,\n        \"max\": 17598,\n        \"num_unique_values\": 3,\n        \"samples\": [\n          17161,\n          17380,\n          17598\n        ],\n        \"semantic_type\": \"\",\n        \"description\": \"\"\n      }\n    }\n  ]\n}"
            }
          },
          "metadata": {},
          "execution_count": 2
        }
      ]
    },
    {
      "cell_type": "markdown",
      "source": [
        "### Preprocessing"
      ],
      "metadata": {
        "id": "SEf5lBmuyIvM"
      }
    },
    {
      "cell_type": "code",
      "source": [
        "df['Tanggal'] = pd.to_datetime(df['Tanggal'])\n",
        "df['Year'] = df['Tanggal'].dt.year\n",
        "df['Month'] = df['Tanggal'].dt.month"
      ],
      "metadata": {
        "id": "cHvQSMH8yIWd"
      },
      "execution_count": null,
      "outputs": []
    },
    {
      "cell_type": "code",
      "source": [
        "data_mod = df.drop(columns=['Tanggal'])\n",
        "\n",
        "X = data_mod.drop('Harga Beras', axis=1)\n",
        "y = data_mod['Harga Beras']"
      ],
      "metadata": {
        "id": "xkpmfUI_yTMv"
      },
      "execution_count": null,
      "outputs": []
    },
    {
      "cell_type": "markdown",
      "source": [
        "### Split Dataset"
      ],
      "metadata": {
        "id": "jegAkDReqifK"
      }
    },
    {
      "cell_type": "code",
      "source": [
        "cutoff_index = int(len(data_mod) * 0.8)\n",
        "\n",
        "# Split the dataset into training and testing sets using the calculated index\n",
        "X_train = X.iloc[:cutoff_index]\n",
        "X_test = X.iloc[cutoff_index:]\n",
        "y_train = y.iloc[:cutoff_index]\n",
        "y_test = y.iloc[cutoff_index:]"
      ],
      "metadata": {
        "id": "U3wzqik4qj7U"
      },
      "execution_count": null,
      "outputs": []
    },
    {
      "cell_type": "markdown",
      "source": [
        "### Model Training"
      ],
      "metadata": {
        "id": "QEQFldq-qs01"
      }
    },
    {
      "cell_type": "code",
      "source": [
        "from sklearn.ensemble import RandomForestRegressor\n",
        "from sklearn.metrics import mean_squared_error, r2_score"
      ],
      "metadata": {
        "id": "fWiuLeYbqd3Y"
      },
      "execution_count": null,
      "outputs": []
    },
    {
      "cell_type": "code",
      "source": [
        "from sklearn.model_selection import GridSearchCV\n",
        "\n",
        "# Define the parameter grid for Random Forest\n",
        "param_grid = {\n",
        "    'n_estimators': [50, 100, 200],  # Number of trees in the forest\n",
        "    'max_depth': [None, 10, 20, 30],  # Maximum depth of the tree\n",
        "    'min_samples_split': [2, 10, 20]  # Minimum number of samples required to split an internal node\n",
        "}\n",
        "\n",
        "# Initialize the RandomForestRegressor\n",
        "rf = RandomForestRegressor(random_state=42)\n",
        "\n",
        "# Setup GridSearchCV\n",
        "grid_search = GridSearchCV(estimator=rf, param_grid=param_grid, cv=5, scoring='neg_mean_squared_error', verbose=1)\n",
        "\n",
        "# Fit GridSearchCV\n",
        "grid_search.fit(X_train, y_train)\n",
        "\n",
        "# Evaluate the best model from grid search\n",
        "best_rf = grid_search.best_estimator_\n",
        "best_score = grid_search.best_score_\n",
        "best_params = grid_search.best_params_\n",
        "\n",
        "best_rf, best_score, best_params"
      ],
      "metadata": {
        "colab": {
          "base_uri": "https://localhost:8080/"
        },
        "id": "IYgaYdGXqzcD",
        "outputId": "dffc6b41-78a5-4470-bd6d-6fdb3ad6bb04"
      },
      "execution_count": null,
      "outputs": [
        {
          "output_type": "stream",
          "name": "stdout",
          "text": [
            "Fitting 5 folds for each of 36 candidates, totalling 180 fits\n"
          ]
        },
        {
          "output_type": "execute_result",
          "data": {
            "text/plain": [
              "(RandomForestRegressor(max_depth=10, n_estimators=50, random_state=42),\n",
              " -63894.20518210005,\n",
              " {'max_depth': 10, 'min_samples_split': 2, 'n_estimators': 50})"
            ]
          },
          "metadata": {},
          "execution_count": 7
        }
      ]
    },
    {
      "cell_type": "code",
      "source": [
        "# Make predictions on the testing data using the best Random Forest model\n",
        "predictions = best_rf.predict(X_test)\n",
        "\n",
        "# Evaluate the model\n",
        "mse = mean_squared_error(y_test, predictions)\n",
        "r2 = r2_score(y_test, predictions)\n",
        "\n",
        "print('Mean Squared Error:', mse)\n",
        "print('R-squared Score:', r2)\n",
        "\n",
        "# Optionally, visualize the actual and predicted values\n",
        "plt.figure(figsize=(10, 5))\n",
        "plt.plot(X_test.index, y_test, label='Actual', marker='o')\n",
        "plt.plot(X_test.index, predictions, label='Predicted', linestyle='--', marker='x')\n",
        "plt.xlabel('Index')\n",
        "plt.ylabel('Harga Beras')\n",
        "plt.title('Random Forest Regression Forecasting')\n",
        "plt.legend()\n",
        "plt.show()"
      ],
      "metadata": {
        "colab": {
          "base_uri": "https://localhost:8080/",
          "height": 520
        },
        "id": "WfDCM1968Omp",
        "outputId": "54933026-83f4-40da-fc79-a46c514a22bb"
      },
      "execution_count": null,
      "outputs": [
        {
          "output_type": "stream",
          "name": "stdout",
          "text": [
            "Mean Squared Error: 1384875.015495868\n",
            "R-squared Score: -1.8949418671655596\n"
          ]
        },
        {
          "output_type": "display_data",
          "data": {
            "text/plain": [
              "<Figure size 1000x500 with 1 Axes>"
            ],
            "image/png": "[encoded data removed]"
          },
          "metadata": {}
        }
      ]
    },
    {
      "cell_type": "code",
      "source": [
        "import matplotlib.pyplot as plt\n",
        "import numpy as np\n",
        "\n",
        "# Get feature importances from the model\n",
        "importances = best_rf.feature_importances_\n",
        "# Sort the feature importances in descending order and get the indices\n",
        "indices = np.argsort(importances)[::-1]\n",
        "\n",
        "# Create labels for the x-axis by using feature names sorted by importance\n",
        "feature_labels = X_train.columns[indices]\n",
        "\n",
        "# Create a bar plot of the feature importances\n",
        "plt.figure(figsize=(12, 6))\n",
        "plt.bar(range(X_train.shape[1]), importances[indices], align='center')\n",
        "plt.xticks(range(X_train.shape[1]), feature_labels, rotation=90)\n",
        "plt.xlabel('Features')\n",
        "plt.ylabel('Importance')\n",
        "plt.title('Feature Importance from Random Forest')\n",
        "plt.show()"
      ],
      "metadata": {
        "colab": {
          "base_uri": "https://localhost:8080/",
          "height": 729
        },
        "id": "4NvMId9HYnxQ",
        "outputId": "2fc9689a-8d7c-4626-f99d-42a94fed16c0"
      },
      "execution_count": null,
      "outputs": [
        {
          "output_type": "display_data",
          "data": {
            "text/plain": [
              "<Figure size 1200x600 with 1 Axes>"
            ],
            "image/png": "[encoded data removed]"
          },
          "metadata": {}
        }
      ]
    },
    {
      "cell_type": "code",
      "source": [
        "from sklearn.metrics import mean_squared_error, mean_absolute_error\n",
        "from sklearn.metrics import r2_score\n",
        "from math import sqrt\n",
        "\n",
        "rmse = sqrt(mean_squared_error(df[-len(predictions):][\"Harga Beras\"], predictions))\n",
        "mae = mean_absolute_error(df[-len(predictions):][\"Harga Beras\"], predictions)\n",
        "print(\"Root Mean Square Error:\", rmse)\n",
        "print(\"Mean Absolute Error:\", mae)\n",
        "\n",
        "# R Square\n",
        "r = r2_score(df[-len(predictions):][\"Harga Beras\"], predictions)\n",
        "\n",
        "# Mean Square Error\n",
        "mse = mean_squared_error(df[-len(predictions):][\"Harga Beras\"], predictions)\n",
        "\n",
        "# Menampilkan hasil\n",
        "print(\"R Square: {:.4f}\".format(r))\n",
        "print(\"Mean Square Error:\", mse)"
      ],
      "metadata": {
        "colab": {
          "base_uri": "https://localhost:8080/"
        },
        "id": "Q-Kq747qRgcu",
        "outputId": "890be82b-9358-47b8-b4ec-846cddcda1bb"
      },
      "execution_count": null,
      "outputs": [
        {
          "output_type": "stream",
          "name": "stdout",
          "text": [
            "Root Mean Square Error: 1176.8071275684338\n",
            "Mean Absolute Error: 958.9645721925134\n",
            "R Square: -1.8949\n",
            "Mean Square Error: 1384875.015495868\n"
          ]
        }
      ]
    }
  ]
}
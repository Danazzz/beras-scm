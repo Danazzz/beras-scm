{
  "cells": [
    {
      "cell_type": "markdown",
      "metadata": {
        "id": "bmPXXxNMqoxu"
      },
      "source": [
        "### Import Libraries"
      ]
    },
    {
      "cell_type": "code",
      "execution_count": 7,
      "metadata": {
        "id": "3wY_BFgIp-oA"
      },
      "outputs": [],
      "source": [
        "from datetime import datetime\n",
        "from pandas import read_csv\n",
        "from statsmodels.tsa.arima.model import ARIMA\n",
        "from matplotlib import pyplot\n",
        "from sklearn.metrics import mean_squared_error, mean_absolute_error, r2_score\n",
        "from math import sqrt\n",
        "from statsmodels.graphics.tsaplots import plot_acf, plot_pacf\n",
        "from statsmodels.tsa.stattools import adfuller\n",
        "from scipy import stats\n",
        "from statsmodels.tsa.seasonal import seasonal_decompose\n",
        "from statsmodels.tsa.statespace.sarimax import SARIMAX\n",
        "\n",
        "import statsmodels.api as sm\n",
        "import warnings\n",
        "import numpy as np, pandas as pd\n",
        "import matplotlib.pyplot as plt\n",
        "import seaborn as sns\n",
        "import itertools"
      ]
    },
    {
      "cell_type": "markdown",
      "metadata": {
        "id": "oYVVo_YVqqvw"
      },
      "source": [
        "### Load Dataset"
      ]
    },
    {
      "cell_type": "code",
      "execution_count": 8,
      "metadata": {
        "colab": {
          "base_uri": "https://localhost:8080/",
          "height": 458
        },
        "id": "t4MCCpNBqSA_",
        "outputId": "6370d5f3-906a-49fd-d175-6932afd137f2"
      },
      "outputs": [
        {
          "data": {
            "text/html": [
              "<div>\n",
              "<style scoped>\n",
              "    .dataframe tbody tr th:only-of-type {\n",
              "        vertical-align: middle;\n",
              "    }\n",
              "\n",
              "    .dataframe tbody tr th {\n",
              "        vertical-align: top;\n",
              "    }\n",
              "\n",
              "    .dataframe thead th {\n",
              "        text-align: right;\n",
              "    }\n",
              "</style>\n",
              "<table border=\"1\" class=\"dataframe\">\n",
              "  <thead>\n",
              "    <tr style=\"text-align: right;\">\n",
              "      <th></th>\n",
              "      <th>Tanggal</th>\n",
              "      <th>Luas Panen Padi</th>\n",
              "      <th>GKP Tingkat Petani</th>\n",
              "      <th>GKP Tingkat Penggilingan</th>\n",
              "      <th>GKG Tingkat Penggilingan</th>\n",
              "      <th>Harga Beras Penggilingan</th>\n",
              "      <th>Produksi Beras</th>\n",
              "      <th>Harga Beras</th>\n",
              "      <th>UMP</th>\n",
              "      <th>BBM Solar</th>\n",
              "      <th>Tingkat Konsumsi</th>\n",
              "    </tr>\n",
              "  </thead>\n",
              "  <tbody>\n",
              "    <tr>\n",
              "      <th>0</th>\n",
              "      <td>2021-03-15</td>\n",
              "      <td>10</td>\n",
              "      <td>4000</td>\n",
              "      <td>4150</td>\n",
              "      <td>5050</td>\n",
              "      <td>9465</td>\n",
              "      <td>14419</td>\n",
              "      <td>11200</td>\n",
              "      <td>4960</td>\n",
              "      <td>9600</td>\n",
              "      <td>17161</td>\n",
              "    </tr>\n",
              "    <tr>\n",
              "      <th>1</th>\n",
              "      <td>2021-03-16</td>\n",
              "      <td>10</td>\n",
              "      <td>3850</td>\n",
              "      <td>4100</td>\n",
              "      <td>4740</td>\n",
              "      <td>9360</td>\n",
              "      <td>14419</td>\n",
              "      <td>11200</td>\n",
              "      <td>4960</td>\n",
              "      <td>9600</td>\n",
              "      <td>17161</td>\n",
              "    </tr>\n",
              "    <tr>\n",
              "      <th>2</th>\n",
              "      <td>2021-03-17</td>\n",
              "      <td>10</td>\n",
              "      <td>4160</td>\n",
              "      <td>4230</td>\n",
              "      <td>4950</td>\n",
              "      <td>9400</td>\n",
              "      <td>14419</td>\n",
              "      <td>11200</td>\n",
              "      <td>4960</td>\n",
              "      <td>9600</td>\n",
              "      <td>17161</td>\n",
              "    </tr>\n",
              "    <tr>\n",
              "      <th>3</th>\n",
              "      <td>2021-03-18</td>\n",
              "      <td>10</td>\n",
              "      <td>4120</td>\n",
              "      <td>4190</td>\n",
              "      <td>4730</td>\n",
              "      <td>9340</td>\n",
              "      <td>14419</td>\n",
              "      <td>11200</td>\n",
              "      <td>4960</td>\n",
              "      <td>9600</td>\n",
              "      <td>17161</td>\n",
              "    </tr>\n",
              "    <tr>\n",
              "      <th>4</th>\n",
              "      <td>2021-03-19</td>\n",
              "      <td>10</td>\n",
              "      <td>4190</td>\n",
              "      <td>4290</td>\n",
              "      <td>4990</td>\n",
              "      <td>9410</td>\n",
              "      <td>14419</td>\n",
              "      <td>11200</td>\n",
              "      <td>4960</td>\n",
              "      <td>9600</td>\n",
              "      <td>17161</td>\n",
              "    </tr>\n",
              "    <tr>\n",
              "      <th>...</th>\n",
              "      <td>...</td>\n",
              "      <td>...</td>\n",
              "      <td>...</td>\n",
              "      <td>...</td>\n",
              "      <td>...</td>\n",
              "      <td>...</td>\n",
              "      <td>...</td>\n",
              "      <td>...</td>\n",
              "      <td>...</td>\n",
              "      <td>...</td>\n",
              "      <td>...</td>\n",
              "    </tr>\n",
              "    <tr>\n",
              "      <th>673</th>\n",
              "      <td>2023-12-21</td>\n",
              "      <td>30</td>\n",
              "      <td>6770</td>\n",
              "      <td>6850</td>\n",
              "      <td>7980</td>\n",
              "      <td>13100</td>\n",
              "      <td>14391</td>\n",
              "      <td>14000</td>\n",
              "      <td>5444</td>\n",
              "      <td>6800</td>\n",
              "      <td>17598</td>\n",
              "    </tr>\n",
              "    <tr>\n",
              "      <th>674</th>\n",
              "      <td>2023-12-22</td>\n",
              "      <td>30</td>\n",
              "      <td>6600</td>\n",
              "      <td>6760</td>\n",
              "      <td>8050</td>\n",
              "      <td>13095</td>\n",
              "      <td>14391</td>\n",
              "      <td>14000</td>\n",
              "      <td>5444</td>\n",
              "      <td>6800</td>\n",
              "      <td>17598</td>\n",
              "    </tr>\n",
              "    <tr>\n",
              "      <th>675</th>\n",
              "      <td>2023-12-27</td>\n",
              "      <td>30</td>\n",
              "      <td>6620</td>\n",
              "      <td>6760</td>\n",
              "      <td>8030</td>\n",
              "      <td>13120</td>\n",
              "      <td>14391</td>\n",
              "      <td>14000</td>\n",
              "      <td>5444</td>\n",
              "      <td>6800</td>\n",
              "      <td>17598</td>\n",
              "    </tr>\n",
              "    <tr>\n",
              "      <th>676</th>\n",
              "      <td>2023-12-28</td>\n",
              "      <td>30</td>\n",
              "      <td>6650</td>\n",
              "      <td>6760</td>\n",
              "      <td>8020</td>\n",
              "      <td>13120</td>\n",
              "      <td>14391</td>\n",
              "      <td>14000</td>\n",
              "      <td>5444</td>\n",
              "      <td>6800</td>\n",
              "      <td>17598</td>\n",
              "    </tr>\n",
              "    <tr>\n",
              "      <th>677</th>\n",
              "      <td>2023-12-29</td>\n",
              "      <td>30</td>\n",
              "      <td>6730</td>\n",
              "      <td>6820</td>\n",
              "      <td>8100</td>\n",
              "      <td>13150</td>\n",
              "      <td>14391</td>\n",
              "      <td>14000</td>\n",
              "      <td>5444</td>\n",
              "      <td>6800</td>\n",
              "      <td>17598</td>\n",
              "    </tr>\n",
              "  </tbody>\n",
              "</table>\n",
              "<p>678 rows × 11 columns</p>\n",
              "</div>"
            ],
            "text/plain": [
              "        Tanggal  Luas Panen Padi  GKP Tingkat Petani  \\\n",
              "0    2021-03-15               10                4000   \n",
              "1    2021-03-16               10                3850   \n",
              "2    2021-03-17               10                4160   \n",
              "3    2021-03-18               10                4120   \n",
              "4    2021-03-19               10                4190   \n",
              "..          ...              ...                 ...   \n",
              "673  2023-12-21               30                6770   \n",
              "674  2023-12-22               30                6600   \n",
              "675  2023-12-27               30                6620   \n",
              "676  2023-12-28               30                6650   \n",
              "677  2023-12-29               30                6730   \n",
              "\n",
              "     GKP Tingkat Penggilingan  GKG Tingkat Penggilingan  \\\n",
              "0                        4150                      5050   \n",
              "1                        4100                      4740   \n",
              "2                        4230                      4950   \n",
              "3                        4190                      4730   \n",
              "4                        4290                      4990   \n",
              "..                        ...                       ...   \n",
              "673                      6850                      7980   \n",
              "674                      6760                      8050   \n",
              "675                      6760                      8030   \n",
              "676                      6760                      8020   \n",
              "677                      6820                      8100   \n",
              "\n",
              "     Harga Beras Penggilingan  Produksi Beras  Harga Beras   UMP  BBM Solar  \\\n",
              "0                        9465           14419        11200  4960       9600   \n",
              "1                        9360           14419        11200  4960       9600   \n",
              "2                        9400           14419        11200  4960       9600   \n",
              "3                        9340           14419        11200  4960       9600   \n",
              "4                        9410           14419        11200  4960       9600   \n",
              "..                        ...             ...          ...   ...        ...   \n",
              "673                     13100           14391        14000  5444       6800   \n",
              "674                     13095           14391        14000  5444       6800   \n",
              "675                     13120           14391        14000  5444       6800   \n",
              "676                     13120           14391        14000  5444       6800   \n",
              "677                     13150           14391        14000  5444       6800   \n",
              "\n",
              "     Tingkat Konsumsi  \n",
              "0               17161  \n",
              "1               17161  \n",
              "2               17161  \n",
              "3               17161  \n",
              "4               17161  \n",
              "..                ...  \n",
              "673             17598  \n",
              "674             17598  \n",
              "675             17598  \n",
              "676             17598  \n",
              "677             17598  \n",
              "\n",
              "[678 rows x 11 columns]"
            ]
          },
          "execution_count": 8,
          "metadata": {},
          "output_type": "execute_result"
        }
      ],
      "source": [
        "df = pd.read_csv(\"../../csv/Beras.csv\")\n",
        "df"
      ]
    },
    {
      "cell_type": "markdown",
      "metadata": {
        "id": "SEf5lBmuyIvM"
      },
      "source": [
        "### Preprocessing"
      ]
    },
    {
      "cell_type": "code",
      "execution_count": 9,
      "metadata": {
        "id": "cHvQSMH8yIWd"
      },
      "outputs": [],
      "source": [
        "df['Tanggal'] = pd.to_datetime(df['Tanggal'])\n",
        "df['Year'] = df['Tanggal'].dt.year\n",
        "df['Month'] = df['Tanggal'].dt.month"
      ]
    },
    {
      "cell_type": "code",
      "execution_count": 10,
      "metadata": {
        "id": "xkpmfUI_yTMv"
      },
      "outputs": [],
      "source": [
        "X = df.drop('Harga Beras', axis=1)\n",
        "y = df['Harga Beras']"
      ]
    },
    {
      "cell_type": "code",
      "execution_count": 11,
      "metadata": {
        "id": "Fa2Zp8w8rXnS"
      },
      "outputs": [],
      "source": [
        "cutoff_index = int(len(df) * 0.8)\n",
        "\n",
        "# Split the dataset into training and testing sets using the calculated index\n",
        "X_train = X.iloc[:cutoff_index]\n",
        "X_test = X.iloc[cutoff_index:]\n",
        "y_train = y.iloc[:cutoff_index]\n",
        "y_test = y.iloc[cutoff_index:]"
      ]
    },
    {
      "cell_type": "code",
      "execution_count": 12,
      "metadata": {
        "colab": {
          "base_uri": "https://localhost:8080/"
        },
        "id": "DyOeJeoIrBlA",
        "outputId": "71cb28f2-19b6-4810-efc1-524091cd777b"
      },
      "outputs": [
        {
          "name": "stderr",
          "output_type": "stream",
          "text": [
            "2024-05-12 14:57:09.392081: I tensorflow/core/common_runtime/executor.cc:1197] [/device:CPU:0] (DEBUG INFO) Executor start aborting (this does not indicate an error and you can ignore this message): INVALID_ARGUMENT: You must feed a value for placeholder tensor 'gradients/split_2_grad/concat/split_2/split_dim' with dtype int32\n",
            "\t [[{{node gradients/split_2_grad/concat/split_2/split_dim}}]]\n",
            "2024-05-12 14:57:09.393726: I tensorflow/core/common_runtime/executor.cc:1197] [/device:CPU:0] (DEBUG INFO) Executor start aborting (this does not indicate an error and you can ignore this message): INVALID_ARGUMENT: You must feed a value for placeholder tensor 'gradients/split_grad/concat/split/split_dim' with dtype int32\n",
            "\t [[{{node gradients/split_grad/concat/split/split_dim}}]]\n",
            "2024-05-12 14:57:09.394399: I tensorflow/core/common_runtime/executor.cc:1197] [/device:CPU:0] (DEBUG INFO) Executor start aborting (this does not indicate an error and you can ignore this message): INVALID_ARGUMENT: You must feed a value for placeholder tensor 'gradients/split_1_grad/concat/split_1/split_dim' with dtype int32\n",
            "\t [[{{node gradients/split_1_grad/concat/split_1/split_dim}}]]\n"
          ]
        },
        {
          "ename": "ValueError",
          "evalue": "Failed to convert a NumPy array to a Tensor (Unsupported object type Timestamp).",
          "output_type": "error",
          "traceback": [
            "\u001b[0;31m---------------------------------------------------------------------------\u001b[0m",
            "\u001b[0;31mValueError\u001b[0m                                Traceback (most recent call last)",
            "Cell \u001b[0;32mIn[12], line 24\u001b[0m\n\u001b[1;32m     21\u001b[0m model\u001b[38;5;241m.\u001b[39mcompile(loss\u001b[38;5;241m=\u001b[39m\u001b[38;5;124m'\u001b[39m\u001b[38;5;124mmean_squared_error\u001b[39m\u001b[38;5;124m'\u001b[39m, optimizer\u001b[38;5;241m=\u001b[39m\u001b[38;5;124m'\u001b[39m\u001b[38;5;124madam\u001b[39m\u001b[38;5;124m'\u001b[39m)\n\u001b[1;32m     23\u001b[0m \u001b[38;5;66;03m# Fit the model\u001b[39;00m\n\u001b[0;32m---> 24\u001b[0m \u001b[43mmodel\u001b[49m\u001b[38;5;241;43m.\u001b[39;49m\u001b[43mfit\u001b[49m\u001b[43m(\u001b[49m\u001b[43mX_train_reshaped\u001b[49m\u001b[43m,\u001b[49m\u001b[43m \u001b[49m\u001b[43my_train\u001b[49m\u001b[43m,\u001b[49m\u001b[43m \u001b[49m\u001b[43mepochs\u001b[49m\u001b[38;5;241;43m=\u001b[39;49m\u001b[38;5;241;43m100\u001b[39;49m\u001b[43m,\u001b[49m\u001b[43m \u001b[49m\u001b[43mbatch_size\u001b[49m\u001b[38;5;241;43m=\u001b[39;49m\u001b[38;5;241;43m1\u001b[39;49m\u001b[43m,\u001b[49m\u001b[43m \u001b[49m\u001b[43mverbose\u001b[49m\u001b[38;5;241;43m=\u001b[39;49m\u001b[38;5;241;43m2\u001b[39;49m\u001b[43m)\u001b[49m\n\u001b[1;32m     26\u001b[0m \u001b[38;5;66;03m# Make predictions\u001b[39;00m\n\u001b[1;32m     27\u001b[0m train_predict \u001b[38;5;241m=\u001b[39m model\u001b[38;5;241m.\u001b[39mpredict(X_train_reshaped)\n",
            "File \u001b[0;32m/Library/miniconda3/lib/python3.11/site-packages/keras/utils/traceback_utils.py:70\u001b[0m, in \u001b[0;36mfilter_traceback.<locals>.error_handler\u001b[0;34m(*args, **kwargs)\u001b[0m\n\u001b[1;32m     67\u001b[0m     filtered_tb \u001b[38;5;241m=\u001b[39m _process_traceback_frames(e\u001b[38;5;241m.\u001b[39m__traceback__)\n\u001b[1;32m     68\u001b[0m     \u001b[38;5;66;03m# To get the full stack trace, call:\u001b[39;00m\n\u001b[1;32m     69\u001b[0m     \u001b[38;5;66;03m# `tf.debugging.disable_traceback_filtering()`\u001b[39;00m\n\u001b[0;32m---> 70\u001b[0m     \u001b[38;5;28;01mraise\u001b[39;00m e\u001b[38;5;241m.\u001b[39mwith_traceback(filtered_tb) \u001b[38;5;28;01mfrom\u001b[39;00m \u001b[38;5;28;01mNone\u001b[39;00m\n\u001b[1;32m     71\u001b[0m \u001b[38;5;28;01mfinally\u001b[39;00m:\n\u001b[1;32m     72\u001b[0m     \u001b[38;5;28;01mdel\u001b[39;00m filtered_tb\n",
            "File \u001b[0;32m/Library/miniconda3/lib/python3.11/site-packages/tensorflow/python/framework/constant_op.py:103\u001b[0m, in \u001b[0;36mconvert_to_eager_tensor\u001b[0;34m(value, ctx, dtype)\u001b[0m\n\u001b[1;32m    101\u001b[0m     dtype \u001b[38;5;241m=\u001b[39m dtypes\u001b[38;5;241m.\u001b[39mas_dtype(dtype)\u001b[38;5;241m.\u001b[39mas_datatype_enum\n\u001b[1;32m    102\u001b[0m ctx\u001b[38;5;241m.\u001b[39mensure_initialized()\n\u001b[0;32m--> 103\u001b[0m \u001b[38;5;28;01mreturn\u001b[39;00m \u001b[43mops\u001b[49m\u001b[38;5;241;43m.\u001b[39;49m\u001b[43mEagerTensor\u001b[49m\u001b[43m(\u001b[49m\u001b[43mvalue\u001b[49m\u001b[43m,\u001b[49m\u001b[43m \u001b[49m\u001b[43mctx\u001b[49m\u001b[38;5;241;43m.\u001b[39;49m\u001b[43mdevice_name\u001b[49m\u001b[43m,\u001b[49m\u001b[43m \u001b[49m\u001b[43mdtype\u001b[49m\u001b[43m)\u001b[49m\n",
            "\u001b[0;31mValueError\u001b[0m: Failed to convert a NumPy array to a Tensor (Unsupported object type Timestamp)."
          ]
        }
      ],
      "source": [
        "from keras.models import Sequential\n",
        "from keras.layers import LSTM, Dense\n",
        "import numpy as np\n",
        "\n",
        "# Assuming X_train and y_train are already defined as DataFrames and appropriately preprocessed\n",
        "\n",
        "# Convert DataFrame to numpy array\n",
        "X_train_array = X_train.to_numpy()\n",
        "X_test_array = X_test.to_numpy()\n",
        "\n",
        "# Reshape input to be [samples, time steps, features] for LSTM\n",
        "X_train_reshaped = X_train_array.reshape((X_train_array.shape[0], 1, X_train_array.shape[1]))\n",
        "X_test_reshaped = X_test_array.reshape((X_test_array.shape[0], 1, X_test_array.shape[1]))\n",
        "\n",
        "# Define the LSTM model\n",
        "model = Sequential()\n",
        "model.add(LSTM(50, input_shape=(X_train_reshaped.shape[1], X_train_reshaped.shape[2])))\n",
        "model.add(Dense(1))\n",
        "\n",
        "# Compile the model\n",
        "model.compile(loss='mean_squared_error', optimizer='adam')\n",
        "\n",
        "# Fit the model\n",
        "model.fit(X_train_reshaped, y_train, epochs=100, batch_size=1, verbose=2)\n",
        "\n",
        "# Make predictions\n",
        "train_predict = model.predict(X_train_reshaped)\n",
        "test_predict = model.predict(X_test_reshaped)\n",
        "\n",
        "# Calculate and print performance metrics\n",
        "train_mae = mean_absolute_error(y_train, train_predict)\n",
        "test_mse = mean_squared_error(y_test, test_predict)\n",
        "test_rmse = sqrt(test_mse)\n",
        "print('Train Mae:', train_mse)\n",
        "print('Test MSE:', test_mse)\n",
        "print('Test RMSE:', test_rmse)"
      ]
    },
    {
      "cell_type": "code",
      "execution_count": null,
      "metadata": {
        "colab": {
          "base_uri": "https://localhost:8080/",
          "height": 487
        },
        "id": "uPTtRzQGsqpz",
        "outputId": "4df4bb67-0496-4a9c-fb93-94ad7a66fda9"
      },
      "outputs": [
        {
          "data": {
            "image/png": "[encoded data removed]",
            "text/plain": [
              "<Figure size 1000x500 with 1 Axes>"
            ]
          },
          "metadata": {},
          "output_type": "display_data"
        }
      ],
      "source": [
        "plt.figure(figsize=(10, 5))\n",
        "plt.plot(X_test.index, y_test, label='Actual', marker='o')\n",
        "plt.plot(X_test.index, test_predict, label='Predicted', linestyle='--', marker='x')\n",
        "plt.xlabel('Index')\n",
        "plt.ylabel('Harga Beras')\n",
        "plt.title('LSTM Forecasting')\n",
        "plt.legend()\n",
        "plt.show()"
      ]
    },
    {
      "cell_type": "code",
      "execution_count": null,
      "metadata": {},
      "outputs": [
        {
          "name": "stdout",
          "output_type": "stream",
          "text": [
            "1/1 [==============================] - 0s 13ms/step\n",
            "1/1 [==============================] - 0s 15ms/step\n",
            "1/1 [==============================] - 0s 12ms/step\n",
            "1/1 [==============================] - 0s 12ms/step\n",
            "1/1 [==============================] - 0s 15ms/step\n",
            "1/1 [==============================] - 0s 11ms/step\n",
            "1/1 [==============================] - 0s 11ms/step\n",
            "1/1 [==============================] - 0s 10ms/step\n",
            "1/1 [==============================] - 0s 10ms/step\n",
            "1/1 [==============================] - 0s 10ms/step\n",
            "1/1 [==============================] - 0s 11ms/step\n",
            "1/1 [==============================] - 0s 12ms/step\n",
            "1/1 [==============================] - 0s 12ms/step\n",
            "1/1 [==============================] - 0s 11ms/step\n",
            "1/1 [==============================] - 0s 11ms/step\n",
            "1/1 [==============================] - 0s 10ms/step\n",
            "1/1 [==============================] - 0s 10ms/step\n",
            "1/1 [==============================] - 0s 11ms/step\n",
            "1/1 [==============================] - 0s 10ms/step\n",
            "1/1 [==============================] - 0s 22ms/step\n",
            "1/1 [==============================] - 0s 12ms/step\n",
            "1/1 [==============================] - 0s 10ms/step\n",
            "1/1 [==============================] - 0s 11ms/step\n",
            "1/1 [==============================] - 0s 11ms/step\n",
            "1/1 [==============================] - 0s 11ms/step\n",
            "1/1 [==============================] - 0s 10ms/step\n",
            "1/1 [==============================] - 0s 11ms/step\n",
            "1/1 [==============================] - 0s 11ms/step\n",
            "1/1 [==============================] - 0s 11ms/step\n",
            "1/1 [==============================] - 0s 11ms/step\n",
            "1/1 [==============================] - 0s 12ms/step\n",
            "1/1 [==============================] - 0s 11ms/step\n",
            "1/1 [==============================] - 0s 11ms/step\n",
            "1/1 [==============================] - 0s 11ms/step\n",
            "1/1 [==============================] - 0s 10ms/step\n",
            "1/1 [==============================] - 0s 11ms/step\n",
            "1/1 [==============================] - 0s 11ms/step\n",
            "1/1 [==============================] - 0s 12ms/step\n",
            "1/1 [==============================] - 0s 10ms/step\n",
            "1/1 [==============================] - 0s 10ms/step\n",
            "1/1 [==============================] - 0s 10ms/step\n",
            "1/1 [==============================] - 0s 10ms/step\n",
            "1/1 [==============================] - 0s 10ms/step\n",
            "1/1 [==============================] - 0s 10ms/step\n",
            "1/1 [==============================] - 0s 10ms/step\n",
            "1/1 [==============================] - 0s 11ms/step\n",
            "1/1 [==============================] - 0s 11ms/step\n",
            "1/1 [==============================] - 0s 10ms/step\n",
            "1/1 [==============================] - 0s 10ms/step\n",
            "1/1 [==============================] - 0s 11ms/step\n",
            "1/1 [==============================] - 0s 10ms/step\n",
            "1/1 [==============================] - 0s 11ms/step\n",
            "1/1 [==============================] - 0s 11ms/step\n",
            "1/1 [==============================] - 0s 11ms/step\n",
            "1/1 [==============================] - 0s 10ms/step\n",
            "1/1 [==============================] - 0s 10ms/step\n",
            "1/1 [==============================] - 0s 10ms/step\n",
            "1/1 [==============================] - 0s 12ms/step\n",
            "1/1 [==============================] - 0s 11ms/step\n",
            "1/1 [==============================] - 0s 11ms/step\n",
            "1/1 [==============================] - 0s 12ms/step\n",
            "1/1 [==============================] - 0s 12ms/step\n",
            "1/1 [==============================] - 0s 12ms/step\n",
            "1/1 [==============================] - 0s 11ms/step\n",
            "1/1 [==============================] - 0s 11ms/step\n",
            "1/1 [==============================] - 0s 12ms/step\n",
            "1/1 [==============================] - 0s 12ms/step\n",
            "1/1 [==============================] - 0s 11ms/step\n",
            "1/1 [==============================] - 0s 12ms/step\n",
            "1/1 [==============================] - 0s 11ms/step\n",
            "1/1 [==============================] - 0s 12ms/step\n",
            "1/1 [==============================] - 0s 11ms/step\n",
            "1/1 [==============================] - 0s 12ms/step\n",
            "1/1 [==============================] - 0s 11ms/step\n",
            "1/1 [==============================] - 0s 11ms/step\n",
            "1/1 [==============================] - 0s 11ms/step\n",
            "1/1 [==============================] - 0s 11ms/step\n",
            "1/1 [==============================] - 0s 11ms/step\n",
            "1/1 [==============================] - 0s 12ms/step\n",
            "1/1 [==============================] - 0s 12ms/step\n",
            "1/1 [==============================] - 0s 11ms/step\n",
            "1/1 [==============================] - 0s 12ms/step\n",
            "1/1 [==============================] - 0s 11ms/step\n",
            "1/1 [==============================] - 0s 10ms/step\n",
            "1/1 [==============================] - 0s 11ms/step\n",
            "1/1 [==============================] - 0s 10ms/step\n",
            "1/1 [==============================] - 0s 13ms/step\n",
            "1/1 [==============================] - 0s 11ms/step\n",
            "1/1 [==============================] - 0s 10ms/step\n",
            "1/1 [==============================] - 0s 10ms/step\n"
          ]
        }
      ],
      "source": [
        "look_back = 11  # set look_back to the number of features in your training set\n",
        "future_predictions = []\n",
        "current_batch = X_train.iloc[-1].values.reshape((1, 1, look_back))\n",
        "for i in range(90):\n",
        "    current_pred = model.predict(current_batch)[0]\n",
        "    future_predictions.append(current_pred)\n",
        "    current_pred = current_pred.reshape((1, 1, look_back))  # reshape current_pred to a 3-dimensional array\n",
        "    current_batch = np.append(current_batch[:,1:,:], current_pred, axis=1).reshape(1, 1, look_back)"
      ]
    },
    {
      "cell_type": "code",
      "execution_count": null,
      "metadata": {},
      "outputs": [
        {
          "data": {
            "image/png": "[encoded data removed]",
            "text/plain": [
              "<Figure size 1000x600 with 1 Axes>"
            ]
          },
          "metadata": {},
          "output_type": "display_data"
        }
      ],
      "source": [
        "import matplotlib.pyplot as plt\n",
        "\n",
        "# Assuming 'actual_values' is a list of your actual values for the next 90 days\n",
        "actual_values = y_test.tolist()\n",
        "\n",
        "# 'future_predictions' is your list of predicted values\n",
        "future_predictions = np.array(future_predictions).flatten()\n",
        "\n",
        "plt.figure(figsize=(10,6))\n",
        "plt.plot(actual_values, label='Actual')\n",
        "plt.plot(future_predictions, label='Predicted')\n",
        "plt.title('Actual vs Predicted Values')\n",
        "plt.xlabel('Time')\n",
        "plt.ylabel('Value')\n",
        "plt.legend()\n",
        "plt.show()"
      ]
    }
  ],
  "metadata": {
    "colab": {
      "provenance": []
    },
    "kernelspec": {
      "display_name": "Python 3",
      "name": "python3"
    },
    "language_info": {
      "codemirror_mode": {
        "name": "ipython",
        "version": 3
      },
      "file_extension": ".py",
      "mimetype": "text/x-python",
      "name": "python",
      "nbconvert_exporter": "python",
      "pygments_lexer": "ipython3",
      "version": "3.11.0"
    }
  },
  "nbformat": 4,
  "nbformat_minor": 0
}
